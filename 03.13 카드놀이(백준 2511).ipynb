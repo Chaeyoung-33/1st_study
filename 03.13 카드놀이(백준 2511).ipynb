{
 "cells": [
  {
   "cell_type": "markdown",
   "id": "c149d2a7",
   "metadata": {},
   "source": [
    "### 03/13(월) 스터디 전 난이도 파악용 문제 - 백준 2511번"
   ]
  },
  {
   "cell_type": "markdown",
   "id": "daffae92",
   "metadata": {},
   "source": [
    "# 문제"
   ]
  },
  {
   "cell_type": "markdown",
   "id": "89217a2c",
   "metadata": {},
   "source": [
    "0부터 9까지의 숫자가 표시된 카드를 가지고 두 사람 A와 B가 게임을 한다. A와 B에게는 각각 0에서 9까지의 숫자가 하나씩 표시된 10장의 카드뭉치가 주어진다. 두 사람은 카드를 임의의 순서로 섞은 후 숫자가 보이지 않게 일렬로 늘어  놓고 게임을 시작한다. 단, 게임 도중 카드의 순서를 바꿀 수는 없다.\n",
    "\n",
    "A와 B 각각이 늘어놓은 카드를 뒤집어서 표시된 숫자를 확인하는 것을 한 라운드라고 한다. 게임은 첫 번째 놓인 카드부터 시작하여 순서대로 10번의 라운드로 진행된다. 각 라운드에서는 공개된 숫자가 더 큰 사람이 승자가 된다. 승자에게는 승점 3점이 주어지고 패자에게는 승점이 주어지지 않는다. 만약 공개된 두 숫자가 같아서 비기게 되면, A, B 모두에게 승점 1점이 주어진다. \n",
    "\n",
    "10번의 라운드가 모두 진행된 후, 총 승점이 큰 사람이 게임의 승자가 된다. 만약, A와 B의 총 승점이 같은 경우에는, 제일 마지막에 이긴 사람을 게임의 승자로 정한다. 그래도 승부가 나지 않는 경우는 모든 라운드에서 비기는 경우뿐이고 이 경우에 두 사람은 비겼다고 한다.\n",
    "\n",
    "예를 들어, 다음 표에서 3번째 줄은 각 라운드의 승자를 표시하고 있다. 표에서 D는 무승부를 나타낸다. 이 경우에 A의 총 승점은 16점이고, B는 13점이어서, A가 게임의 승자가 된다. <br>\n",
    "A  4 5 6 7 0 1 2 3 9 8 <br>\n",
    "B  1 2 3 4 5 6 7 8 9 0 <br>\n",
    "승 A\tA A\tA B\tB B\tB D\tA <br>\n",
    "\n",
    "아래 표의 경우에는 A와 B의 총 승점은 13점으로 같다. 마지막으로 승부가 난 라운드는 7번째 라운드이고, 이 라운드의 승자인 B가 게임의 승자가 된다. <br>\n",
    "A  9 1 7 2 6 3 0 4 8 5 <br>\n",
    "B  6 3 9 2 1 0 7 4 8 5 <br>\n",
    "승 A\tB B\tD A\tA B\tD D\tD <br>\n",
    "\n",
    "A와 B가 늘어놓은 카드의 숫자가 순서대로 주어질 때, 게임의 승자가 A인지 B인지, 또는 비겼는지 결정하는 프로그램을 작성하시오."
   ]
  },
  {
   "cell_type": "markdown",
   "id": "13872568",
   "metadata": {},
   "source": [
    "## 입력"
   ]
  },
  {
   "cell_type": "markdown",
   "id": "c2679147",
   "metadata": {},
   "source": [
    "입력 파일은 두 개의 줄로 이루어진다. 첫 번째 줄에는 A가 늘어놓은 카드의 숫자들이 빈칸을 사이에 두고 순서대로 주어진다. 두 번째 줄에는 B가 늘어놓은 카드의 숫자들이 빈칸을 사이에 두고 순서대로 주어진다.\n",
    "\n",
    "ex1) <br>\n",
    "4 5 6 7 0 1 2 3 9 8 <br>\n",
    "1 2 3 4 5 6 7 8 9 0\n",
    "\n",
    "ex2) <br>\n",
    "9 1 7 2 6 3 0 4 8 5 <br>\n",
    "6 3 9 2 1 0 7 4 8 5\n",
    "\n",
    "ex3) <br>\n",
    "7 1 6 2 3 0 5 9 4 8 <br>\n",
    "7 1 6 2 3 0 5 9 4 8"
   ]
  },
  {
   "cell_type": "markdown",
   "id": "428e6aa9",
   "metadata": {},
   "source": [
    "## 출력"
   ]
  },
  {
   "cell_type": "markdown",
   "id": "9c3d8d5b",
   "metadata": {},
   "source": [
    "첫 번째 줄에는 게임이 끝난 후, A와 B가 받은 총 승점을 순서대로 빈칸을 사이에 두고 출력한다. 두 번째 줄에는 이긴 사람이 A인지 B인지 결정해서, 이긴 사람을 문자 A 또는 B로 출력한다. 만약 비기는 경우에는 문자 D를 출력한다.\n",
    "\n",
    "ex1) <br>\n",
    "16 13 <br>\n",
    "A\n",
    "\n",
    "ex2) <br>\n",
    "13 13 <br>\n",
    "B\n",
    "\n",
    "ex3) <br>\n",
    "10 10 <br>\n",
    "D"
   ]
  },
  {
   "cell_type": "markdown",
   "id": "484e457e",
   "metadata": {},
   "source": [
    "--------"
   ]
  },
  {
   "cell_type": "markdown",
   "id": "301da112",
   "metadata": {},
   "source": [
    "# 답안"
   ]
  },
  {
   "cell_type": "code",
   "execution_count": null,
   "id": "09ce919c",
   "metadata": {},
   "outputs": [],
   "source": [
    "AandB = input()\n",
    "a = list(map(int, AandB.split('<br>')[0].split()))\n",
    "b = list(map(int, AandB.split('<br>')[1].split()))\n",
    "\n",
    "countA = countB = 0\n",
    "\n",
    "for i in range(10):\n",
    "    if a[i] > b[i]:\n",
    "        countA += 3\n",
    "    elif a[i] < b[i]:\n",
    "        countB += 3\n",
    "    else:\n",
    "        countA += 1\n",
    "        countB += 1\n",
    "        \n",
    "print(countA, countB)\n",
    "\n",
    "if a == b:\n",
    "    print('D')\n",
    "if countA > countB:\n",
    "    print('A')\n",
    "elif countA < countB:\n",
    "    print('B')\n",
    "else:\n",
    "    for j in range(10):\n",
    "        if a[9-j] > b[9-j]:\n",
    "            print('A')\n",
    "            break\n",
    "        elif a[9-j] < b[9-j]:\n",
    "            print('B')\n",
    "            break"
   ]
  },
  {
   "cell_type": "code",
   "execution_count": null,
   "id": "0b607900",
   "metadata": {},
   "outputs": [],
   "source": [
    "# 먼저 입력받은 숫자들을 찢어주자\n",
    "# A와 B를 먼저 나누고, 띄어쓰기로 구분되어있는 숫자들을 정수형으로 리스트에 넣어주자!\n",
    "AandB = input()\n",
    "a = list(map(int, AandB.split('<br>')[0].split()))\n",
    "b = list(map(int, AandB.split('<br>')[1].split()))\n",
    "\n",
    "# 반복문으로 각 라운드마다 A와 B의 승패를 가려보자!\n",
    "countA = countB = 0\n",
    "\n",
    "for i in range(10):\n",
    "    if a[i] > b[i]:\n",
    "        countA += 3\n",
    "    elif a[i] < b[i]:\n",
    "        countB += 3\n",
    "    else:\n",
    "        countA += 1\n",
    "        countB += 1\n",
    "        \n",
    "# 이제 A와 B가 각각 몇 점인지 표시하자\n",
    "print(countA, countB)\n",
    "\n",
    "# 누가 이겼지?\n",
    "if a == b:\n",
    "    print('D')\n",
    "if countA > countB:\n",
    "    print('A')\n",
    "elif countA < countB:\n",
    "    print('B')\n",
    "else:\n",
    "    for j in range(10):\n",
    "        if a[9-j] > b[9-j]:\n",
    "            print('A')\n",
    "            break\n",
    "        elif a[9-j] < b[9-j]:\n",
    "            print('B')\n",
    "            break"
   ]
  },
  {
   "cell_type": "markdown",
   "id": "167eddaa",
   "metadata": {},
   "source": [
    "---------"
   ]
  },
  {
   "cell_type": "code",
   "execution_count": 124,
   "id": "b2a05b20",
   "metadata": {},
   "outputs": [
    {
     "name": "stdout",
     "output_type": "stream",
     "text": [
      "7 1 6 2 3 0 5 9 4 8 <br> 7 1 6 2 3 0 5 9 4 8\n"
     ]
    }
   ],
   "source": [
    "# 먼저 입력받은 숫자들을 찢어주자\n",
    "# A와 B를 먼저 나누고, 띄어쓰기로 구분되어있는 숫자들을 정수형으로 리스트에 넣어주자!\n",
    "AandB = input()\n",
    "a = list(map(int, AandB.split('<br>')[0].split()))\n",
    "b = list(map(int, AandB.split('<br>')[1].split()))"
   ]
  },
  {
   "cell_type": "code",
   "execution_count": 125,
   "id": "70881335",
   "metadata": {},
   "outputs": [
    {
     "data": {
      "text/plain": [
       "[7, 1, 6, 2, 3, 0, 5, 9, 4, 8]"
      ]
     },
     "execution_count": 125,
     "metadata": {},
     "output_type": "execute_result"
    }
   ],
   "source": [
    "# 정수형 리스트로 잘 담겼다! 확인\n",
    "a"
   ]
  },
  {
   "cell_type": "code",
   "execution_count": 126,
   "id": "76c50f76",
   "metadata": {},
   "outputs": [
    {
     "data": {
      "text/plain": [
       "[7, 1, 6, 2, 3, 0, 5, 9, 4, 8]"
      ]
     },
     "execution_count": 126,
     "metadata": {},
     "output_type": "execute_result"
    }
   ],
   "source": [
    "b"
   ]
  },
  {
   "cell_type": "code",
   "execution_count": 127,
   "id": "19bca395",
   "metadata": {},
   "outputs": [],
   "source": [
    "# 반복문으로 각 라운드마다 A와 B의 승패를 가려보자!\n",
    "countA = countB = 0\n",
    "\n",
    "for i in range(10):\n",
    "    if a[i] > b[i]:\n",
    "        countA += 3\n",
    "    elif a[i] < b[i]:\n",
    "        countB += 3\n",
    "    else:\n",
    "        countA += 1\n",
    "        countB += 1"
   ]
  },
  {
   "cell_type": "code",
   "execution_count": 128,
   "id": "e37c6574",
   "metadata": {
    "scrolled": true
   },
   "outputs": [
    {
     "name": "stdout",
     "output_type": "stream",
     "text": [
      "10 10\n"
     ]
    }
   ],
   "source": [
    "# 이제 A와 B가 각각 몇 점인지 표시하자\n",
    "print(countA, countB)"
   ]
  },
  {
   "cell_type": "code",
   "execution_count": 129,
   "id": "258826de",
   "metadata": {},
   "outputs": [
    {
     "name": "stdout",
     "output_type": "stream",
     "text": [
      "D\n"
     ]
    }
   ],
   "source": [
    "# 누가 이겼지?\n",
    "if a == b:\n",
    "    print('D')\n",
    "if countA > countB:\n",
    "    print('A')\n",
    "elif countA < countB:\n",
    "    print('B')\n",
    "else:\n",
    "    for j in range(10):\n",
    "        if a[9-j] > b[9-j]:\n",
    "            print('A')\n",
    "            break\n",
    "        elif a[9-j] < b[9-j]:\n",
    "            print('B')\n",
    "            break"
   ]
  },
  {
   "cell_type": "code",
   "execution_count": 111,
   "id": "7244670d",
   "metadata": {},
   "outputs": [
    {
     "name": "stdout",
     "output_type": "stream",
     "text": [
      "B\n"
     ]
    }
   ],
   "source": [
    "# 누가 이겼지?\n",
    "if countA > countB:\n",
    "    print('A')\n",
    "elif countA < countB:\n",
    "    print('B')\n",
    "else:\n",
    "    # 이 말도 안되는걸 어떻게 줄이지ㅜ 큐ㅠㅠㅠㅠㅠ \n",
    "    if (a[9] == b[9]) and (a[8] == b[8]) and (a[7] == b[7]) and (a[6] == b[6]) and (a[5] == b[5]) and (a[4] == b[4]) and (a[3] == b[3]) and (a[2] == b[2]) and (a[1] == b[1]) and (a[0] == b[0]):\n",
    "        print('D')\n",
    "    for j in range(10):\n",
    "        if a[9-j] > b[9-j]:\n",
    "            print('A')\n",
    "            break\n",
    "        elif a[9-j] < b[9-j]:\n",
    "            print('B')\n",
    "            break"
   ]
  },
  {
   "cell_type": "code",
   "execution_count": null,
   "id": "12ff3790",
   "metadata": {},
   "outputs": [],
   "source": [
    "# 누가 이겼지?\n",
    "if countA > countB:\n",
    "    print('A')\n",
    "elif countA < countB:\n",
    "    print('B')\n",
    "else:\n",
    "    for j in range(10):\n",
    "        if a[9-j] > b[9-j]:\n",
    "            print('A')\n",
    "            break\n",
    "        elif a[9-j] < b[9-j]:\n",
    "            print('B')\n",
    "            break\n",
    "        # 이건,,, 제대로 안 돌아감 ㅜ\n",
    "        else:\n",
    "            print('D')\n",
    "            break"
   ]
  }
 ],
 "metadata": {
  "kernelspec": {
   "display_name": "Python 3 (ipykernel)",
   "language": "python",
   "name": "python3"
  },
  "language_info": {
   "codemirror_mode": {
    "name": "ipython",
    "version": 3
   },
   "file_extension": ".py",
   "mimetype": "text/x-python",
   "name": "python",
   "nbconvert_exporter": "python",
   "pygments_lexer": "ipython3",
   "version": "3.9.13"
  }
 },
 "nbformat": 4,
 "nbformat_minor": 5
}
